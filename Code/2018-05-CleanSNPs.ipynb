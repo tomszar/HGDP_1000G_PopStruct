{
 "cells": [
  {
   "cell_type": "markdown",
   "metadata": {},
   "source": [
    "# Clean SNPs\n",
    "\n",
    "This script will run a basic clean of SNPs on the merged HGDP-1000G reference files.\n",
    "Specifically, we will remove SNPs with minor allele frequencies below 0.01, a Hardy-Weinberg equilibrium exact test p-value below 1e-50, missing call rates exceeding 0.1.\n",
    "After that we will run an LD prune, using a window size of 50 SNPs, with a step size of 5 SNPs, and a variance inflation factor (VIF) of 2."
   ]
  },
  {
   "cell_type": "code",
   "execution_count": 9,
   "metadata": {},
   "outputs": [],
   "source": [
    "import subprocess, os, glob, shutil"
   ]
  },
  {
   "cell_type": "code",
   "execution_count": 4,
   "metadata": {},
   "outputs": [],
   "source": [
    "projpath = os.path.realpath(\"..\")\n",
    "pathgeno = os.path.join(projpath, \"DataBases\", \"Genotypes\")\n",
    "pathout  = os.path.join(projpath, \"Results\", \"CleanGenos\")\n",
    "pathinfo = os.path.join(projpath, \"DataBases\", \"PopInfo\")"
   ]
  },
  {
   "cell_type": "code",
   "execution_count": 10,
   "metadata": {},
   "outputs": [
    {
     "name": "stdout",
     "output_type": "stream",
     "text": [
      "641330 variants loaded from .bim file.\n",
      "3589 variants removed due to missing genotype data (--geno).\n",
      "637741 variants and 3444 people pass filters and QC.\n",
      "Finished file... \n",
      "\n",
      "637741 variants loaded from .bim file.\n",
      "--hwe: 15080 variants removed due to Hardy-Weinberg exact test.\n",
      "622661 variants and 3444 people pass filters and QC.\n",
      "Finished file... \n",
      "\n",
      "644003 variants loaded from .bim file.\n",
      "2673 variants removed due to minor allele threshold(s)\n",
      "641330 variants and 3444 people pass filters and QC.\n",
      "Finished file... \n",
      "\n"
     ]
    }
   ],
   "source": [
    "os.chdir(pathgeno)\n",
    "subprocess.run([\"plink\", \"--bfile\", \"hgdp1000ghg19\", \"--maf\", \"0.01\", \"--make-bed\", \"--out\", \"clean_temp1\"])\n",
    "subprocess.run([\"plink\", \"--bfile\", \"clean_temp1\", \"--geno\", \"0.1\", \"--make-bed\", \"--out\", \"clean_temp2\"])\n",
    "subprocess.run([\"plink\", \"--bfile\", \"clean_temp2\", \"--hwe\", \"1e-50\", \"--make-bed\", \"--out\", \"clean_temp3\"])\n",
    "subprocess.run([\"plink\", \"--bfile\", \"clean_temp3\", \"--indep\", \"50\", \"5\", \"2\"])\n",
    "subprocess.run([\"plink\", \"--bfile\", \"clean_temp3\", \"--extract\", \"plink.prune.in\", \"--make-bed\", \"--out\", \"CleanGenos\"])\n",
    "\n",
    "#Read log files with the variants section\n",
    "for file in glob.glob(\"*_temp*.log\"):\n",
    "    with open(file) as myfile:\n",
    "        for num, line in enumerate(myfile, 1):\n",
    "            if \"variants\" in line:\n",
    "                print(line, end='')\n",
    "        print(\"Finished file... \\n\")\n",
    "        \n",
    "#Cleaning folder\n",
    "for file in glob.glob(\"*_temp*\"):\n",
    "    os.remove(file)\n",
    "    \n",
    "#Moving files\n",
    "for filename in glob.glob(\"CleanGenos.*\"):\n",
    "    shutil.move(filename, pathout)"
   ]
  },
  {
   "cell_type": "code",
   "execution_count": null,
   "metadata": {},
   "outputs": [],
   "source": []
  }
 ],
 "metadata": {
  "kernelspec": {
   "display_name": "Python 3",
   "language": "python",
   "name": "python3"
  },
  "language_info": {
   "codemirror_mode": {
    "name": "ipython",
    "version": 3
   },
   "file_extension": ".py",
   "mimetype": "text/x-python",
   "name": "python",
   "nbconvert_exporter": "python",
   "pygments_lexer": "ipython3",
   "version": "3.6.5"
  }
 },
 "nbformat": 4,
 "nbformat_minor": 2
}
