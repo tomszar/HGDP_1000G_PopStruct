{
 "cells": [
  {
   "cell_type": "markdown",
   "metadata": {},
   "source": [
    "# Clean SNPs\n",
    "\n",
    "This script will run a basic clean of SNPs on the merged HGDP-1000G reference files.\n",
    "Specifically, we will remove SNPs with minor allele frequencies below 0.01, a Hardy-Weinberg equilibrium exact test p-value below 1e-50, missing call rates exceeding 0.1.\n",
    "After that we will run an LD prune, using a window size of 50 SNPs, with a step size of 5 SNPs, and a variance inflation factor (VIF) of 2."
   ]
  },
  {
   "cell_type": "code",
   "execution_count": 1,
   "metadata": {},
   "outputs": [],
   "source": [
    "import subprocess, os, glob, shutil\n",
    "import pandas as pd"
   ]
  },
  {
   "cell_type": "code",
   "execution_count": 2,
   "metadata": {},
   "outputs": [],
   "source": [
    "projpath = os.path.realpath(\"..\")\n",
    "pathgeno = os.path.join(projpath, \"DataBases\", \"Genotypes\")\n",
    "pathout  = os.path.join(projpath, \"Results\", \"CleanGenos\")\n",
    "pathinfo = os.path.join(projpath, \"DataBases\", \"PopInfo\")"
   ]
  },
  {
   "cell_type": "code",
   "execution_count": 3,
   "metadata": {},
   "outputs": [
    {
     "name": "stdout",
     "output_type": "stream",
     "text": [
      "641330 variants loaded from .bim file.\n",
      "3589 variants removed due to missing genotype data (--geno).\n",
      "637741 variants and 3444 people pass filters and QC.\n",
      "Finished file... \n",
      "\n",
      "622661 variants loaded from .bim file.\n",
      "--extract: 97941 variants remaining.\n",
      "97941 variants and 3444 people pass filters and QC.\n",
      "Finished file... \n",
      "\n",
      "108583 variants loaded from .bim file.\n",
      "108583 variants and 3444 people pass filters and QC.\n",
      "Finished file... \n",
      "\n",
      "622661 variants loaded from .bim file.\n",
      "622661 variants and 3444 people pass filters and QC.\n",
      "Pruned 40238 variants from chromosome 1, leaving 7848.\n",
      "Pruned 44123 variants from chromosome 2, leaving 7688.\n",
      "Pruned 36636 variants from chromosome 3, leaving 6528.\n",
      "Pruned 32743 variants from chromosome 4, leaving 6013.\n",
      "Pruned 32987 variants from chromosome 5, leaving 5992.\n",
      "Pruned 35872 variants from chromosome 6, leaving 5958.\n",
      "Pruned 29105 variants from chromosome 7, leaving 5242.\n",
      "Pruned 30956 variants from chromosome 8, leaving 5095.\n",
      "Pruned 25728 variants from chromosome 9, leaving 4598.\n",
      "Pruned 28328 variants from chromosome 10, leaving 5148.\n",
      "Pruned 26345 variants from chromosome 11, leaving 4725.\n",
      "Pruned 25546 variants from chromosome 12, leaving 4754.\n",
      "Pruned 20593 variants from chromosome 13, leaving 3832.\n",
      "Pruned 17557 variants from chromosome 14, leaving 3337.\n",
      "Pruned 15844 variants from chromosome 15, leaving 3108.\n",
      "Pruned 15767 variants from chromosome 16, leaving 3331.\n",
      "Pruned 12943 variants from chromosome 17, leaving 3076.\n",
      "Pruned 16332 variants from chromosome 18, leaving 3270.\n",
      "Pruned 8212 variants from chromosome 19, leaving 2227.\n",
      "Pruned 13469 variants from chromosome 20, leaving 2868.\n",
      "Pruned 7772 variants from chromosome 21, leaving 1617.\n",
      "Pruned 7624 variants from chromosome 22, leaving 1686.\n",
      "Pruning complete.  524720 of 622661 variants removed.\n",
      "Finished file... \n",
      "\n",
      "622661 variants loaded from .bim file.\n",
      "622661 variants and 3444 people pass filters and QC.\n",
      "Pruned 31848 variants from chromosome 1, leaving 16238.\n",
      "Pruned 35631 variants from chromosome 2, leaving 16180.\n",
      "Pruned 29470 variants from chromosome 3, leaving 13694.\n",
      "Pruned 26277 variants from chromosome 4, leaving 12479.\n",
      "Pruned 26564 variants from chromosome 5, leaving 12415.\n",
      "Pruned 29098 variants from chromosome 6, leaving 12732.\n",
      "Pruned 23378 variants from chromosome 7, leaving 10969.\n",
      "Pruned 25298 variants from chromosome 8, leaving 10753.\n",
      "Pruned 20795 variants from chromosome 9, leaving 9531.\n",
      "Pruned 22807 variants from chromosome 10, leaving 10669.\n",
      "Pruned 21262 variants from chromosome 11, leaving 9808.\n",
      "Pruned 20431 variants from chromosome 12, leaving 9869.\n",
      "Pruned 16565 variants from chromosome 13, leaving 7860.\n",
      "Pruned 14035 variants from chromosome 14, leaving 6859.\n",
      "Pruned 12488 variants from chromosome 15, leaving 6464.\n",
      "Pruned 12222 variants from chromosome 16, leaving 6876.\n",
      "Pruned 9790 variants from chromosome 17, leaving 6229.\n",
      "Pruned 12897 variants from chromosome 18, leaving 6705.\n",
      "Pruned 6015 variants from chromosome 19, leaving 4424.\n",
      "Pruned 10522 variants from chromosome 20, leaving 5815.\n",
      "Pruned 6159 variants from chromosome 21, leaving 3230.\n",
      "Pruned 5846 variants from chromosome 22, leaving 3464.\n",
      "Pruning complete.  419398 of 622661 variants removed.\n",
      "Finished file... \n",
      "\n",
      "637741 variants loaded from .bim file.\n",
      "--hwe: 15080 variants removed due to Hardy-Weinberg exact test.\n",
      "622661 variants and 3444 people pass filters and QC.\n",
      "Finished file... \n",
      "\n",
      "622661 variants loaded from .bim file.\n",
      "--extract: 203263 variants remaining.\n",
      "203263 variants and 3444 people pass filters and QC.\n",
      "Finished file... \n",
      "\n",
      "644003 variants loaded from .bim file.\n",
      "2673 variants removed due to minor allele threshold(s)\n",
      "641330 variants and 3444 people pass filters and QC.\n",
      "Finished file... \n",
      "\n"
     ]
    }
   ],
   "source": [
    "os.chdir(pathgeno)\n",
    "#Removing MAF\n",
    "subprocess.run([\"plink\", \"--bfile\", \"hgdp1000ghg19\", \"--maf\", \"0.01\", \"--make-bed\", \"--out\", \"clean_temp1\"])\n",
    "#Removing missing call rates\n",
    "subprocess.run([\"plink\", \"--bfile\", \"clean_temp1\", \"--geno\", \"0.1\", \"--make-bed\", \"--out\", \"clean_temp2\"])\n",
    "#Removing H-W\n",
    "subprocess.run([\"plink\", \"--bfile\", \"clean_temp2\", \"--hwe\", \"1e-50\", \"--make-bed\", \"--out\", \"clean_temp3\"])\n",
    "#LD prune relaxed\n",
    "subprocess.run([\"plink\", \"--bfile\", \"clean_temp3\", \"--indep\", \"50\", \"5\", \"2\", \"--out\", \"relaxed\"])\n",
    "subprocess.run([\"plink\", \"--bfile\", \"clean_temp3\", \"--extract\", \"relaxed.prune.in\", \"--make-bed\", \"--out\", \"CleanGenos_relaxed\"])\n",
    "#LD prune strict\n",
    "subprocess.run([\"plink\", \"--bfile\", \"clean_temp3\", \"--indep\", \"500\", \"5\", \"1.3\", \"--out\", \"strict\"])\n",
    "subprocess.run([\"plink\", \"--bfile\", \"clean_temp3\", \"--extract\", \"strict.prune.in\", \"--make-bed\", \"--out\", \"CleanGenos_strict\"])\n",
    "\n",
    "#Read log files with the variants section\n",
    "for file in glob.glob(\"*.log\"):\n",
    "    with open(file) as myfile:\n",
    "        for num, line in enumerate(myfile, 1):\n",
    "            if \"variants\" in line:\n",
    "                print(line, end='')\n",
    "        print(\"Finished file... \\n\")"
   ]
  },
  {
   "cell_type": "code",
   "execution_count": 16,
   "metadata": {},
   "outputs": [
    {
     "data": {
      "text/plain": [
       "CompletedProcess(args=['plink', '--bfile', 'CleanGenos_strict', '--within', 'pops.txt', '--freq', '--out', 'CleanGenos_strict'], returncode=0)"
      ]
     },
     "execution_count": 16,
     "metadata": {},
     "output_type": "execute_result"
    }
   ],
   "source": [
    "os.chdir(pathinfo)\n",
    "#Creating an allele frequency file from CleanGenos_strict\n",
    "#Create a within file for plink containing FID IID and cluster name\n",
    "info1000g = pd.read_table(\"integrated_call_samples_v3.20130502.ALL.panel\", header = None, skiprows = 1)\n",
    "infohgdp  = pd.read_table(\"SampleInformation.txt\", header = None, skiprows = 1, dtype = str)\n",
    "#Fixing hgdp info file\n",
    "infohgdp = infohgdp.drop(index = 1066)\n",
    "for i in range(0,len(infohgdp)):\n",
    "    n   = len(infohgdp.iloc[i,0])\n",
    "    ze  = 5 - n\n",
    "    add = \"HGDP\" + \"0\" * ze + infohgdp.iloc[i,0]\n",
    "    infohgdp.iloc[i,0] = add\n",
    "\n",
    "#Loading fam file\n",
    "os.chdir(pathgeno)\n",
    "fam = pd.read_table(\"hgdp1000ghg19.fam\", sep = \" \", header = None)\n",
    "#Creating within file and writing\n",
    "temp = pd.merge(fam, info1000g, how=\"left\", left_on=1, right_on=0)\n",
    "temp = pd.merge(temp, infohgdp, how=\"left\", left_on=1, right_on=0)\n",
    "pops = pd.concat([fam.iloc[:,0], fam.iloc[:,1], temp.iloc[:,9].fillna( temp.iloc[:,30]) ], axis = 1 )#+ test.iloc[:,30])\n",
    "pops.to_csv(\"pops.txt\", sep = \" \", header=False, index=False)\n",
    "\n",
    "#Running pop allele frequencies\n",
    "subprocess.run([\"plink\", \"--bfile\", \"CleanGenos_strict\", \"--within\", \"pops.txt\", \"--freq\", \"--out\", \"CleanGenos_strict\"])"
   ]
  },
  {
   "cell_type": "code",
   "execution_count": 17,
   "metadata": {},
   "outputs": [
    {
     "data": {
      "text/plain": [
       "CompletedProcess(args=['bash', 'LongToWide.sh'], returncode=0)"
      ]
     },
     "execution_count": 17,
     "metadata": {},
     "output_type": "execute_result"
    }
   ],
   "source": [
    "#Changing from long to wide dataframe\n",
    "os.chdir(os.path.join(projpath, \"Code\"))\n",
    "subprocess.run([\"bash\", \"LongToWide.sh\"])"
   ]
  },
  {
   "cell_type": "code",
   "execution_count": 19,
   "metadata": {},
   "outputs": [],
   "source": [
    "os.chdir(pathgeno)\n",
    "#Cleaning folder\n",
    "for file in glob.glob(\"*_temp*\"):\n",
    "    os.remove(file)\n",
    "    \n",
    "#Moving files\n",
    "for filename in glob.glob(\"CleanGenos_*.*\"):\n",
    "    shutil.move(filename, pathout)"
   ]
  }
 ],
 "metadata": {
  "kernelspec": {
   "display_name": "Python 3",
   "language": "python",
   "name": "python3"
  },
  "language_info": {
   "codemirror_mode": {
    "name": "ipython",
    "version": 3
   },
   "file_extension": ".py",
   "mimetype": "text/x-python",
   "name": "python",
   "nbconvert_exporter": "python",
   "pygments_lexer": "ipython3",
   "version": "3.6.5"
  }
 },
 "nbformat": 4,
 "nbformat_minor": 2
}
