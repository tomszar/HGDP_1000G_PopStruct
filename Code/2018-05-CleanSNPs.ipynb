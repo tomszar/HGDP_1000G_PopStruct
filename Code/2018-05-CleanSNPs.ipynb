{
 "cells": [
  {
   "cell_type": "markdown",
   "metadata": {},
   "source": [
    "# QC procedure\n",
    "\n",
    "This script will run a basic QC procedure on the merged HGDP-1000G reference files.\n",
    "Specifically, we will run the following:\n",
    "\n",
    "1. Remove founders, that is, individuals with at least one parent in the dataset, and retained only autosomal chromosomes\n",
    "2. Remove SNPs with missing call rates higher than 0.1\n",
    "3. Remove SNPs with minor allele frequencies below 0.05\n",
    "4. Remove SNPs with hardy-weinberg equilibrium p-values less than 1e-50\n",
    "5. Remove samples with missing call rates higher than 0.1\n",
    "6. Remove one arbitrary individual from any pairwise comparison with a pihat >= 0.25 from an IBD estimation after LD prune\n",
    "\n",
    "We will use the file generated after the QC procedure to continue the phasing-IBD pipeline, after splitting by chromosome.\n",
    "We will also generate another thinned file, generated after LD pruning the genotypes, for a PCA and Admixture analysis."
   ]
  },
  {
   "cell_type": "code",
   "execution_count": 1,
   "metadata": {},
   "outputs": [],
   "source": [
    "#Importing modules\n",
    "import subprocess, os, glob, shutil\n",
    "import pandas as pd\n",
    "from GenotypeQC import QC_procedure"
   ]
  },
  {
   "cell_type": "code",
   "execution_count": 2,
   "metadata": {},
   "outputs": [],
   "source": [
    "#Setting paths\n",
    "projpath   = os.path.realpath(\"..\")\n",
    "pathgeno   = os.path.join(projpath, \"DataBases\", \"Genotypes\")\n",
    "pathclean  = os.path.join(projpath, \"Results\", \"CleanGenos\")\n",
    "pathcounts = os.path.join(projpath, \"Results\", \"Counts\")\n",
    "pathadmix  = os.path.join(projpath, \"Results\", \"ADMIXTURE\")\n",
    "pathpca    = os.path.join(projpath, \"Results\", \"PCA\")\n",
    "pathibd    = os.path.join(projpath, \"Results\", \"RefinedIBD\")\n",
    "pathinfo   = os.path.join(projpath, \"DataBases\", \"PopInfo\")\n",
    "os.chdir(pathgeno)"
   ]
  },
  {
   "cell_type": "code",
   "execution_count": 3,
   "metadata": {},
   "outputs": [
    {
     "name": "stdout",
     "output_type": "stream",
     "text": [
      "Running hgdp1000ghg19 file...\n",
      "Removing SNPs with missing call rates higher than 0.1...\n",
      "Removing SNPs with minor allele frequencies below 0.05...\n",
      "Removing SNPs with hardy-weinberg equilibrium p-values less than 1e-50...\n",
      "Removing samples with missing call rates higher than 0.1...\n",
      "Removing one arbitrary individual from any pairwise comparison with a pihat higher than 0.25...\n",
      "Generating final plink file...\n",
      "Finished\n"
     ]
    }
   ],
   "source": [
    "#Cleaning genotyopes \n",
    "QC_procedure()"
   ]
  },
  {
   "cell_type": "code",
   "execution_count": 4,
   "metadata": {},
   "outputs": [
    {
     "data": {
      "text/plain": [
       "CompletedProcess(args=['plink', '--bfile', 'QC/hgdp1000ghg19_founders_geno01_maf_hwe_mind01_rel', '--exclude', 'QC/hgdp1000ghg19_founders_geno01_maf_hwe_mind01_rel_pruned.prune.out', '--make-bed', '--out', 'QC/hgdp1000ghg19_founders_geno01_maf_hwe_mind01_rel_pruned'], returncode=0)"
      ]
     },
     "execution_count": 4,
     "metadata": {},
     "output_type": "execute_result"
    }
   ],
   "source": [
    "#Generating LD prune file with values 50 5 2\n",
    "filename = glob.glob(os.path.join(\"QC\", \"*.bed\") )[0].split(\".\")[0]\n",
    "subprocess.run([\"plink\", \"--bfile\", filename, \"--indep\", \"50\", \"5\", \"2\", \"--out\", filename + \"_pruned\"])\n",
    "subprocess.run([\"plink\", \"--bfile\", filename, \"--exclude\", filename + \"_pruned\" + \".prune.out\", \"--make-bed\", \"--out\", filename + \"_pruned\"])"
   ]
  },
  {
   "cell_type": "code",
   "execution_count": 5,
   "metadata": {},
   "outputs": [
    {
     "name": "stdout",
     "output_type": "stream",
     "text": [
      "Reading QC/temp6.log...\n",
      "458912 variants loaded from .bim file.\n",
      "458912 variants and 3432 people pass filters and QC.\n",
      "Pruned 22086 variants from chromosome 1, leaving 11986.\n",
      "Pruned 25705 variants from chromosome 2, leaving 12062.\n",
      "Pruned 21353 variants from chromosome 3, leaving 10439.\n",
      "Pruned 19228 variants from chromosome 4, leaving 9570.\n",
      "Pruned 17918 variants from chromosome 5, leaving 9112.\n",
      "Pruned 20768 variants from chromosome 6, leaving 9434.\n",
      "Pruned 17946 variants from chromosome 7, leaving 8532.\n",
      "Pruned 18665 variants from chromosome 8, leaving 8156.\n",
      "Pruned 15544 variants from chromosome 9, leaving 7459.\n",
      "Pruned 16792 variants from chromosome 10, leaving 8128.\n",
      "Pruned 14546 variants from chromosome 11, leaving 7293.\n",
      "Pruned 14558 variants from chromosome 12, leaving 7422.\n",
      "Pruned 12292 variants from chromosome 13, leaving 5905.\n",
      "Pruned 10066 variants from chromosome 14, leaving 5252.\n",
      "Pruned 9140 variants from chromosome 15, leaving 5043.\n",
      "Pruned 9097 variants from chromosome 16, leaving 5383.\n",
      "Pruned 6846 variants from chromosome 17, leaving 4815.\n",
      "Pruned 8767 variants from chromosome 18, leaving 5026.\n",
      "Pruned 4300 variants from chromosome 19, leaving 3514.\n",
      "Pruned 8578 variants from chromosome 20, leaving 4630.\n",
      "Pruned 5104 variants from chromosome 21, leaving 2652.\n",
      "Pruned 4969 variants from chromosome 22, leaving 2831.\n",
      "Pruning complete.  304268 of 458912 variants removed.\n",
      "Finished file... \n",
      "\n",
      "Reading QC/temp1.log...\n",
      "529103 variants loaded from .bim file.\n",
      "529103 variants and 3432 people pass filters and QC.\n",
      "Finished file... \n",
      "\n",
      "Reading QC/temp5.log...\n",
      "458912 variants loaded from .bim file.\n",
      "458912 variants and 3432 people pass filters and QC.\n",
      "Finished file... \n",
      "\n",
      "Reading QC/temp7.log...\n",
      "458912 variants loaded from .bim file.\n",
      "--exclude: 154644 variants remaining.\n",
      "154644 variants and 3432 people pass filters and QC.\n",
      "Finished file... \n",
      "\n",
      "Reading QC/hgdp1000ghg19_founders_geno01_maf_hwe_mind01_rel.log...\n",
      "458912 variants loaded from .bim file.\n",
      "458912 variants and 3291 people pass filters and QC.\n",
      "Finished file... \n",
      "\n",
      "Reading QC/hgdp1000ghg19_founders_geno01_maf_hwe_mind01_rel_pruned.log...\n",
      "458912 variants loaded from .bim file.\n",
      "--exclude: 155533 variants remaining.\n",
      "155533 variants and 3291 people pass filters and QC.\n",
      "Finished file... \n",
      "\n",
      "Reading QC/temp4.log...\n",
      "471118 variants loaded from .bim file.\n",
      "--hwe: 12206 variants removed due to Hardy-Weinberg exact test.\n",
      "458912 variants and 3432 people pass filters and QC.\n",
      "Finished file... \n",
      "\n",
      "Reading QC/temp2.log...\n",
      "529103 variants loaded from .bim file.\n",
      "3645 variants removed due to missing genotype data (--geno).\n",
      "525458 variants and 3432 people pass filters and QC.\n",
      "Finished file... \n",
      "\n",
      "Reading QC/temp3.log...\n",
      "525458 variants loaded from .bim file.\n",
      "54340 variants removed due to minor allele threshold(s)\n",
      "471118 variants and 3432 people pass filters and QC.\n",
      "Finished file... \n",
      "\n"
     ]
    }
   ],
   "source": [
    "#Printing output from log files with the variants section\n",
    "for file in glob.glob(os.path.join(\"QC\", \"*.log\") ):\n",
    "    with open(file) as myfile:\n",
    "        print(\"Reading \" + str(myfile.name) + \"...\")\n",
    "        for num, line in enumerate(myfile, 1):\n",
    "            if \"variants\" in line:\n",
    "                print(line, end='')\n",
    "        print(\"Finished file... \\n\")"
   ]
  },
  {
   "cell_type": "code",
   "execution_count": 6,
   "metadata": {},
   "outputs": [
    {
     "data": {
      "text/plain": [
       "CompletedProcess(args=['plink', '--bfile', 'QC/hgdp1000ghg19_founders_geno01_maf_hwe_mind01_rel_pruned', '--pca', '--out', '/home/tomas/Documents/Research/HGDP_1000G_PopStruct/Results/PCA/hgdp1000ghg19_founders_geno01_maf_hwe_mind01_rel_pruned_PCA'], returncode=0)"
      ]
     },
     "execution_count": 6,
     "metadata": {},
     "output_type": "execute_result"
    }
   ],
   "source": [
    "#Running PCA from pruned file\n",
    "filename = glob.glob(os.path.join(\"QC\", \"*pruned.bed\") )[0].split(\".\")[0]\n",
    "outname  = os.path.join(pathpca, filename.split(\"/\")[1] + \"_PCA\")\n",
    "subprocess.run([\"plink\", \"--bfile\", filename, \"--pca\", \"--out\", outname])\n"
   ]
  },
  {
   "cell_type": "code",
   "execution_count": 7,
   "metadata": {},
   "outputs": [],
   "source": [
    "#Separate files by chromosome\n",
    "filename = glob.glob(os.path.join(\"QC\", \"*rel.bed\") )[0].split(\".\")[0]\n",
    "\n",
    "for i in range(1,23): #for all chromosomes\n",
    "    subprocess.run([\"plink\", \"--bfile\", filename, \"--chr\", str(i), \"--make-bed\", \"--out\", filename + \"_chr_\" + str(i) ])\n"
   ]
  },
  {
   "cell_type": "code",
   "execution_count": null,
   "metadata": {},
   "outputs": [],
   "source": [
    "#Moving files?"
   ]
  },
  {
   "cell_type": "code",
   "execution_count": null,
   "metadata": {},
   "outputs": [],
   "source": [
    "#Not running the code below"
   ]
  },
  {
   "cell_type": "code",
   "execution_count": 10,
   "metadata": {},
   "outputs": [
    {
     "data": {
      "text/plain": [
       "CompletedProcess(args=['plink', '--bfile', 'CleanGenos_relaxed', '--pca', '50', '--out', 'CleanGenos_strict_PCA'], returncode=0)"
      ]
     },
     "execution_count": 10,
     "metadata": {},
     "output_type": "execute_result"
    }
   ],
   "source": [
    "#Creating population file, generating the allele counts\n",
    "\n",
    "os.chdir(pathinfo)\n",
    "#Creating an allele frequency file from CleanGenos_strict\n",
    "#Create a within file for plink containing FID IID and cluster name\n",
    "info1000g = pd.read_table(\"integrated_call_samples_v3.20130502.ALL.panel\", header = None, skiprows = 1)\n",
    "infohgdp  = pd.read_table(\"SampleInformation.txt\", header = None, skiprows = 1, dtype = str)\n",
    "#Fixing hgdp info file\n",
    "infohgdp = infohgdp.drop(index = 1066)\n",
    "for i in range(0,len(infohgdp)):\n",
    "    n   = len(infohgdp.iloc[i,0])\n",
    "    ze  = 5 - n\n",
    "    add = \"HGDP\" + \"0\" * ze + infohgdp.iloc[i,0]\n",
    "    infohgdp.iloc[i,0] = add\n",
    "\n",
    "#Loading fam file\n",
    "os.chdir(pathgeno)\n",
    "fam = pd.read_table(\"hgdp1000ghg19.fam\", sep = \" \", header = None)\n",
    "#Creating within file and writing\n",
    "temp = pd.merge(fam, info1000g, how=\"left\", left_on=1, right_on=0)\n",
    "temp = pd.merge(temp, infohgdp, how=\"left\", left_on=1, right_on=0)\n",
    "pops = pd.concat([fam.iloc[:,0], fam.iloc[:,1], temp.iloc[:,9].fillna( temp.iloc[:,14]) ], axis = 1 )#+ test.iloc[:,30])\n",
    "pops.to_csv(\"pops.txt\", sep = \" \", header=False, index=False)\n",
    "\n",
    "#Running pop allele frequencies\n",
    "subprocess.run([\"plink\", \"--bfile\", \"CleanGenos_strict\", \"--within\", \"pops.txt\", \"--freq\", \"--out\", \"CleanGenos_strict\"])\n",
    "\n",
    "#PCA analysis\n",
    "subprocess.run([\"plink\", \"--bfile\", \"CleanGenos_relaxed\", \"--pca\", \"50\", \"--out\", \"CleanGenos_strict_PCA\"])"
   ]
  },
  {
   "cell_type": "code",
   "execution_count": 11,
   "metadata": {},
   "outputs": [
    {
     "data": {
      "text/plain": [
       "CompletedProcess(args=['bash', 'LongToWide.sh'], returncode=0)"
      ]
     },
     "execution_count": 11,
     "metadata": {},
     "output_type": "execute_result"
    }
   ],
   "source": [
    "#Changing from long to wide dataframe\n",
    "os.chdir(os.path.join(projpath, \"Code\"))\n",
    "subprocess.run([\"bash\", \"LongToWide.sh\"])"
   ]
  },
  {
   "cell_type": "code",
   "execution_count": 12,
   "metadata": {},
   "outputs": [],
   "source": [
    "os.chdir(pathgeno)\n",
    "#Removing temp files\n",
    "for file in glob.glob(\"*_temp*\"):\n",
    "    os.remove(file)\n",
    "    \n",
    "#Moving PCA files\n",
    "for filename in glob.glob(\"*_PCA.*\"):\n",
    "    shutil.move(filename, pathpca)\n",
    "    \n",
    "#Moving count files\n",
    "for filename in glob.glob(\"*.frq.*\"):\n",
    "    shutil.move(filename, pathcounts)\n",
    "\n",
    "#Moving cleangenos files\n",
    "for filename in glob.glob(\"CleanGenos_strict.*\"):\n",
    "    shutil.move(filename, pathclean)\n",
    "\n",
    "#Moving cleangenos files\n",
    "for filename in glob.glob(\"CleanGenos_relaxed.*\"):\n",
    "    shutil.move(filename, pathclean)"
   ]
  }
 ],
 "metadata": {
  "kernelspec": {
   "display_name": "Python 3",
   "language": "python",
   "name": "python3"
  },
  "language_info": {
   "codemirror_mode": {
    "name": "ipython",
    "version": 3
   },
   "file_extension": ".py",
   "mimetype": "text/x-python",
   "name": "python",
   "nbconvert_exporter": "python",
   "pygments_lexer": "ipython3",
   "version": "3.6.5"
  }
 },
 "nbformat": 4,
 "nbformat_minor": 2
}
